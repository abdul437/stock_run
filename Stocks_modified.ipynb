{
 "cells": [
  {
   "cell_type": "code",
   "execution_count": 82,
   "metadata": {},
   "outputs": [],
   "source": [
    "import numpy as np\n",
    "import pandas as pd\n",
    "import pandas_datareader as pdr\n",
    "import matplotlib.pyplot as plt\n",
    "import ipywidgets as widgets\n",
    "import yfinance as fyf\n",
    "fyf.pdr_override()\n",
    "%matplotlib inline"
   ]
  },
  {
   "cell_type": "code",
   "execution_count": 81,
   "metadata": {},
   "outputs": [
    {
     "data": {
      "application/vnd.jupyter.widget-view+json": {
       "model_id": "299452a271e14e978a3e4141706fd5f4",
       "version_major": 2,
       "version_minor": 0
      },
      "text/plain": [
       "interactive(children=(Dropdown(description='Stock:', options=('AC.TO', 'FB', 'SHOP.TO', 'AMZN', 'MSFT', 'TSLA'…"
      ]
     },
     "metadata": {},
     "output_type": "display_data"
    }
   ],
   "source": [
    "widgets.interact(stk, stocks=test);"
   ]
  },
  {
   "cell_type": "code",
   "execution_count": 80,
   "metadata": {},
   "outputs": [],
   "source": [
    "test = widgets.Dropdown(\n",
    "    options=['AC.TO', 'FB', 'SHOP.TO','AMZN','MSFT','TSLA'],\n",
    "    value='AC.TO',\n",
    "    description='Stock:',\n",
    "    disabled=False,)"
   ]
  },
  {
   "cell_type": "code",
   "execution_count": 79,
   "metadata": {},
   "outputs": [],
   "source": [
    "def stk(stocks):\n",
    "#stocks = test.value#[stocks_code]\n",
    "    data= fyf.download(stocks, start='2020-11-01', end = '2020-12-07')\n",
    "    data[\"Open\"].plot(label = test.value + \" open price\", figsize=(7,4))\n",
    "    plt.title(test.value + \" stock prices\")\n",
    "    plt.ylabel(\"Stock Price\")\n",
    "    data[\"Close\"].plot(label = test.value + \" close price\")\n",
    "    data[\"High\"].plot(label = test.value + \" high price\")\n",
    "    data[\"Low\"].plot(label = test.value + \" low price\")\n",
    "    plt.legend()\n",
    "    \n",
    "    return plt.show(), data.head()"
   ]
  },
  {
   "cell_type": "code",
   "execution_count": null,
   "metadata": {},
   "outputs": [],
   "source": []
  }
 ],
 "metadata": {
  "kernelspec": {
   "display_name": "Python 3",
   "language": "python",
   "name": "python3"
  },
  "language_info": {
   "codemirror_mode": {
    "name": "ipython",
    "version": 3
   },
   "file_extension": ".py",
   "mimetype": "text/x-python",
   "name": "python",
   "nbconvert_exporter": "python",
   "pygments_lexer": "ipython3",
   "version": "3.8.3"
  }
 },
 "nbformat": 4,
 "nbformat_minor": 4
}
